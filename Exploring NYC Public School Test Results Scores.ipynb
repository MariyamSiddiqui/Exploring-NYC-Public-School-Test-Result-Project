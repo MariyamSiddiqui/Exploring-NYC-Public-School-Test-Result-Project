{
  "metadata": {
    "kernelspec": {
      "name": "python",
      "display_name": "Python (Pyodide)",
      "language": "python"
    },
    "language_info": {
      "codemirror_mode": {
        "name": "python",
        "version": 3
      },
      "file_extension": ".py",
      "mimetype": "text/x-python",
      "name": "python",
      "nbconvert_exporter": "python",
      "pygments_lexer": "ipython3",
      "version": "3.8"
    }
  },
  "nbformat_minor": 5,
  "nbformat": 4,
  "cells": [
    {
      "id": "ffbb5864-2757-443c-8cfe-7768a38b6726",
      "cell_type": "markdown",
      "source": "# Exploring NYC Public School Test Results Scores",
      "metadata": {}
    },
    {
      "id": "60351751-9e86-4cf4-a98c-fb6e696804bd",
      "cell_type": "markdown",
      "source": "### In this project, I analyzed SAT performance data for high schools in New York City. The analysis focuses on identifying patterns and high-performing schools based on their SAT scores. Key tasks performed in this project include:\n\n✅ Identifying top math performers: Schools where the average math score is at least 80% of the maximum possible score (i.e., 640 out of 800).\n\n🏆 Finding top 10 overall schools: Based on the combined SAT score, which includes math, reading, and writing.\n\n📍 Analyzing borough-level variation: Determining which single borough shows the highest standard deviation in combined SAT scores, indicating the widest variation in performance among its schools.\n\nThis analysis provides insights into academic performance across different schools and boroughs, highlighting excellence and disparities in SAT outcomes.",
      "metadata": {}
    },
    {
      "id": "31949bda-10cc-4223-9936-2fc8658f5fc3",
      "cell_type": "code",
      "source": "import pandas as pd\nschools = pd.read_csv(\"schools.csv\")",
      "metadata": {
        "trusted": true
      },
      "outputs": [],
      "execution_count": 1
    },
    {
      "id": "ce414218-5e73-4f2f-bdc0-68d2e2c17cc4",
      "cell_type": "code",
      "source": "schools.head()",
      "metadata": {
        "trusted": true
      },
      "outputs": [
        {
          "execution_count": 2,
          "output_type": "execute_result",
          "data": {
            "text/plain": "                                         school_name    borough building_code  \\\n0  New Explorations into Science, Technology and ...  Manhattan          M022   \n1                               Essex Street Academy  Manhattan          M445   \n2                       Lower Manhattan Arts Academy  Manhattan          M445   \n3    High School for Dual Language and Asian Studies  Manhattan          M445   \n4      Henry Street School for International Studies  Manhattan          M056   \n\n   average_math  average_reading  average_writing  percent_tested  \n0           657              601              601             NaN  \n1           395              411              387            78.9  \n2           418              428              415            65.1  \n3           613              453              463            95.9  \n4           410              406              381            59.7  ",
            "text/html": "<div>\n<style scoped>\n    .dataframe tbody tr th:only-of-type {\n        vertical-align: middle;\n    }\n\n    .dataframe tbody tr th {\n        vertical-align: top;\n    }\n\n    .dataframe thead th {\n        text-align: right;\n    }\n</style>\n<table border=\"1\" class=\"dataframe\">\n  <thead>\n    <tr style=\"text-align: right;\">\n      <th></th>\n      <th>school_name</th>\n      <th>borough</th>\n      <th>building_code</th>\n      <th>average_math</th>\n      <th>average_reading</th>\n      <th>average_writing</th>\n      <th>percent_tested</th>\n    </tr>\n  </thead>\n  <tbody>\n    <tr>\n      <th>0</th>\n      <td>New Explorations into Science, Technology and ...</td>\n      <td>Manhattan</td>\n      <td>M022</td>\n      <td>657</td>\n      <td>601</td>\n      <td>601</td>\n      <td>NaN</td>\n    </tr>\n    <tr>\n      <th>1</th>\n      <td>Essex Street Academy</td>\n      <td>Manhattan</td>\n      <td>M445</td>\n      <td>395</td>\n      <td>411</td>\n      <td>387</td>\n      <td>78.9</td>\n    </tr>\n    <tr>\n      <th>2</th>\n      <td>Lower Manhattan Arts Academy</td>\n      <td>Manhattan</td>\n      <td>M445</td>\n      <td>418</td>\n      <td>428</td>\n      <td>415</td>\n      <td>65.1</td>\n    </tr>\n    <tr>\n      <th>3</th>\n      <td>High School for Dual Language and Asian Studies</td>\n      <td>Manhattan</td>\n      <td>M445</td>\n      <td>613</td>\n      <td>453</td>\n      <td>463</td>\n      <td>95.9</td>\n    </tr>\n    <tr>\n      <th>4</th>\n      <td>Henry Street School for International Studies</td>\n      <td>Manhattan</td>\n      <td>M056</td>\n      <td>410</td>\n      <td>406</td>\n      <td>381</td>\n      <td>59.7</td>\n    </tr>\n  </tbody>\n</table>\n</div>"
          },
          "metadata": {}
        }
      ],
      "execution_count": 2
    },
    {
      "id": "32724c72-fb5b-4792-b9be-4472cda200e9",
      "cell_type": "code",
      "source": "#The best math results are at least 80% of the *maximum possible score of 800* for math.\n#A top math score means getting at least 640 out of 800.\nbest_math_schools = schools[schools[\"average_math\"] >= 640][[\"school_name\", \"average_math\"]].sort_values(\"average_math\", ascending=False)\n\nprint(\"Schools with the best math results (at least 80% of 800): \\n\")\nprint(best_math_schools)",
      "metadata": {
        "trusted": true
      },
      "outputs": [
        {
          "name": "stdout",
          "output_type": "stream",
          "text": "Schools with the best math results (at least 80% of 800): \n\n                                           school_name  average_math\n88                              Stuyvesant High School           754\n170                       Bronx High School of Science           714\n93                 Staten Island Technical High School           711\n365  Queens High School for the Sciences at York Co...           701\n68   High School for Mathematics, Science, and Engi...           683\n280                     Brooklyn Technical High School           682\n333                        Townsend Harris High School           680\n174  High School of American Studies at Lehman College           669\n0    New Explorations into Science, Technology and ...           657\n45                       Eleanor Roosevelt High School           641\n"
        }
      ],
      "execution_count": 8
    },
    {
      "id": "0754b92b-d4f3-4400-bac0-c64d2153cad5",
      "cell_type": "code",
      "source": "#What are the top 10 performing schools based on the combined SAT scores?\nschools [\"total_SAT\"] = schools[\"average_math\"]+ schools[\"average_reading\"]+ schools[\"average_writing\"]",
      "metadata": {
        "trusted": true
      },
      "outputs": [],
      "execution_count": 10
    },
    {
      "id": "8955c895-acc5-459c-8b1c-e1b3e02efa9e",
      "cell_type": "code",
      "source": "top_10_schools = schools[[\"school_name\", \"total_SAT\"]].sort_values(\"total_SAT\", ascending = False).head(10)\nprint(\"The top 10 SAT's scores are: \\n\")\nprint(top_10_schools)",
      "metadata": {
        "trusted": true
      },
      "outputs": [
        {
          "name": "stdout",
          "output_type": "stream",
          "text": "The top 10 SAT's scores are: \n\n                                           school_name  total_SAT\n88                              Stuyvesant High School       2144\n170                       Bronx High School of Science       2041\n93                 Staten Island Technical High School       2041\n174  High School of American Studies at Lehman College       2013\n333                        Townsend Harris High School       1981\n365  Queens High School for the Sciences at York Co...       1947\n5                       Bard High School Early College       1914\n280                     Brooklyn Technical High School       1896\n45                       Eleanor Roosevelt High School       1889\n68   High School for Mathematics, Science, and Engi...       1889\n"
        }
      ],
      "execution_count": 16
    },
    {
      "id": "468c6f9f-e583-430f-92aa-349636b9dbdb",
      "cell_type": "code",
      "source": "boroughs = schools.groupby(\"borough\")[\"total_SAT\"].agg([\"count\", \"mean\", \"std\"]).round(2)\n\nlargest_std_dev = boroughs[boroughs[\"std\"] == boroughs[\"std\"].max()]\n\nlargest_std_dev = largest_std_dev.rename(columns={\"count\": \"num_schools\", \"mean\": \"average_SAT\", \"std\": \"std_SAT\"})\n\nprint(\"\\nBorough with the largest standard deviation in total SAT scores:\\n\")\nprint(largest_std_dev)",
      "metadata": {
        "trusted": true
      },
      "outputs": [
        {
          "name": "stdout",
          "output_type": "stream",
          "text": "\nBorough with the largest standard deviation in total SAT scores:\n\n           num_schools  average_SAT  std_SAT\nborough                                     \nManhattan           89      1340.13   230.29\n"
        }
      ],
      "execution_count": 17
    }
  ]
}